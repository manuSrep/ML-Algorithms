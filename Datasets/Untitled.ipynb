{
 "cells": [
  {
   "cell_type": "code",
   "execution_count": 1,
   "metadata": {
    "collapsed": true
   },
   "outputs": [],
   "source": [
    "using DataFrames"
   ]
  },
  {
   "cell_type": "code",
   "execution_count": 24,
   "metadata": {
    "collapsed": false
   },
   "outputs": [
    {
     "data": {
      "text/plain": [
       "569x31 Array{Real,2}:\n",
       " 17.99   10.38  122.8   1001.0  …  0.7119  0.2654   0.4601  0.1189   1\n",
       " 20.57   17.77  132.9   1326.0     0.2416  0.186    0.275   0.08902  1\n",
       " 19.69   21.25  130.0   1203.0     0.4504  0.243    0.3613  0.08758  1\n",
       " 11.42   20.38   77.58   386.1     0.6869  0.2575   0.6638  0.173    1\n",
       " 20.29   14.34  135.1   1297.0     0.4     0.1625   0.2364  0.07678  1\n",
       " 12.45   15.7    82.57   477.1  …  0.5355  0.1741   0.3985  0.1244   1\n",
       " 18.25   19.98  119.6   1040.0     0.3784  0.1932   0.3063  0.08368  1\n",
       " 13.71   20.83   90.2    577.9     0.2678  0.1556   0.3196  0.1151   1\n",
       " 13.0    21.82   87.5    519.8     0.539   0.206    0.4378  0.1072   1\n",
       " 12.46   24.04   83.97   475.9     1.105   0.221    0.4366  0.2075   1\n",
       " 16.02   23.24  102.7    797.8  …  0.1459  0.09975  0.2948  0.08452  1\n",
       " 15.78   17.89  103.6    781.0     0.3965  0.181    0.3792  0.1048   1\n",
       " 19.17   24.8   132.4   1123.0     0.3639  0.1767   0.3176  0.1023   1\n",
       "  ⋮                             ⋱                                    ⋮\n",
       "  9.423  27.88   59.26   271.3     0.0     0.0      0.2475  0.06969  0\n",
       " 14.59   22.68   96.39   657.1     0.3662  0.1105   0.2258  0.08004  0\n",
       " 11.51   23.93   74.52   403.5     0.363   0.09653  0.2112  0.08732  0\n",
       " 14.05   27.15   91.38   600.4  …  0.1326  0.1048   0.225   0.08321  0\n",
       " 11.2    29.37   70.67   386.0     0.0     0.0      0.1566  0.05905  0\n",
       " 15.22   30.62  103.4    716.9     1.17    0.2356   0.4089  0.1409   1\n",
       " 20.92   25.09  143.0   1347.0     0.6599  0.2542   0.2929  0.09873  1\n",
       " 21.56   22.39  142.0   1479.0     0.4107  0.2216   0.206   0.07115  1\n",
       " 20.13   28.25  131.2   1261.0  …  0.3215  0.1628   0.2572  0.06637  1\n",
       " 16.6    28.08  108.3    858.1     0.3403  0.1418   0.2218  0.0782   1\n",
       " 20.6    29.33  140.1   1265.0     0.9387  0.265    0.4087  0.124    1\n",
       "  7.76   24.54   47.92   181.0     0.0     0.0      0.2871  0.07039  0"
      ]
     },
     "execution_count": 24,
     "metadata": {},
     "output_type": "execute_result"
    }
   ],
   "source": [
    "df = readtable(\"wdbc.data.txt\", header=false)\n",
    "df[:,end+1] = zeros(Int,size(df,1))\n",
    "df[df[:,2] .== \"M\",end] = 1\n",
    "delete!(df, 1)\n",
    "delete!(df, 1)\n",
    "data = convert(Array, df)"
   ]
  },
  {
   "cell_type": "code",
   "execution_count": null,
   "metadata": {
    "collapsed": true
   },
   "outputs": [],
   "source": [
    "df[:,:PClassCode] = zeros(Int,1313)\n",
    "df[df[:,:PClass].==\"1st\",:PClassCode] = 1\n",
    "df[df[:,:PClass].==\"2nd\",:PClassCode] = 2\n",
    "df[df[:,:PClass].==\"3rd\",:PClassCode] = 3\n",
    "delete!(df, :x)\n",
    "delete!(df, :Name)\n",
    "delete!(df, :Sex)\n",
    "delete!(df, :PClass)\n",
    "deleterows!(df,find(isna(df[:,:Age])))\n",
    "df[end+1]=df[:,:Survived]\n",
    "delete!(df, :Survived)\n",
    "data = convert(Array, df)"
   ]
  }
 ],
 "metadata": {
  "kernelspec": {
   "display_name": "Julia 0.4.6",
   "language": "julia",
   "name": "julia-0.4"
  },
  "language_info": {
   "file_extension": ".jl",
   "mimetype": "application/julia",
   "name": "julia",
   "version": "0.4.6"
  }
 },
 "nbformat": 4,
 "nbformat_minor": 1
}
