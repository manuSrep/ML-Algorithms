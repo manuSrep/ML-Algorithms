{
 "cells": [
  {
   "cell_type": "markdown",
   "metadata": {},
   "source": [
    "# Regression dataset\n",
    "Here I load the Titanic dataset which predicts  the passange survival"
   ]
  },
  {
   "cell_type": "code",
   "execution_count": 1,
   "metadata": {
    "collapsed": true
   },
   "outputs": [],
   "source": [
    "using DataFrames"
   ]
  },
  {
   "cell_type": "markdown",
   "metadata": {},
   "source": [
    "## 1. Load a dataset  as a dataframe and  convert it to a julia array"
   ]
  },
  {
   "cell_type": "code",
   "execution_count": 2,
   "metadata": {
    "collapsed": false
   },
   "outputs": [
    {
     "data": {
      "text/plain": [
       "756x4 Array{Real,2}:\n",
       " 29.0   1  1  1\n",
       "  2.0   1  1  0\n",
       " 30.0   0  1  0\n",
       " 25.0   1  1  0\n",
       "  0.92  0  1  1\n",
       " 47.0   0  1  1\n",
       " 63.0   1  1  1\n",
       " 39.0   0  1  0\n",
       " 58.0   1  1  1\n",
       " 71.0   0  1  0\n",
       " 47.0   0  1  0\n",
       " 19.0   1  1  1\n",
       " 50.0   1  1  1\n",
       "  ⋮            \n",
       " 45.0   1  3  1\n",
       " 28.0   0  3  0\n",
       " 21.0   0  3  0\n",
       " 27.0   0  3  0\n",
       " 36.0   0  3  0\n",
       " 27.0   0  3  0\n",
       " 15.0   1  3  1\n",
       " 27.0   0  3  0\n",
       " 26.0   0  3  0\n",
       " 22.0   0  3  0\n",
       " 24.0   0  3  0\n",
       " 29.0   0  3  0"
      ]
     },
     "execution_count": 2,
     "metadata": {},
     "output_type": "execute_result"
    }
   ],
   "source": [
    "df = readtable(\"Titanic.csv\", header=true)\n",
    "df[:,:PClassCode] = zeros(Int,1313)\n",
    "df[df[:,:PClass].==\"1st\",:PClassCode] = 1\n",
    "df[df[:,:PClass].==\"2nd\",:PClassCode] = 2\n",
    "df[df[:,:PClass].==\"3rd\",:PClassCode] = 3\n",
    "delete!(df, :x)\n",
    "delete!(df, :Name)\n",
    "delete!(df, :Sex)\n",
    "delete!(df, :PClass)\n",
    "deleterows!(df,find(isna(df[:,:Age])))\n",
    "df[end+1]=df[:,:Survived]\n",
    "delete!(df, :Survived)\n",
    "data = convert(Array, df)"
   ]
  },
  {
   "cell_type": "markdown",
   "metadata": {},
   "source": [
    "## 2.  Get x and  y subset"
   ]
  },
  {
   "cell_type": "code",
   "execution_count": 3,
   "metadata": {
    "collapsed": false
   },
   "outputs": [
    {
     "data": {
      "text/plain": [
       "756-element Array{Real,1}:\n",
       " 1\n",
       " 0\n",
       " 0\n",
       " 0\n",
       " 1\n",
       " 1\n",
       " 1\n",
       " 0\n",
       " 1\n",
       " 0\n",
       " 0\n",
       " 1\n",
       " 1\n",
       " ⋮\n",
       " 1\n",
       " 0\n",
       " 0\n",
       " 0\n",
       " 0\n",
       " 0\n",
       " 1\n",
       " 0\n",
       " 0\n",
       " 0\n",
       " 0\n",
       " 0"
      ]
     },
     "execution_count": 3,
     "metadata": {},
     "output_type": "execute_result"
    }
   ],
   "source": [
    "x = data[:,1:end-1]\n",
    "y = data[:,end]"
   ]
  },
  {
   "cell_type": "markdown",
   "metadata": {},
   "source": [
    "## 3. Shuffel Divide into a training and a test subset"
   ]
  },
  {
   "cell_type": "code",
   "execution_count": 4,
   "metadata": {
    "collapsed": false
   },
   "outputs": [
    {
     "data": {
      "text/plain": [
       "302x3 Array{Real,2}:\n",
       " 41.0  0  3\n",
       " 24.0  0  3\n",
       " 25.0  0  3\n",
       " 20.0  0  3\n",
       " 23.0  0  3\n",
       " 29.0  1  1\n",
       " 41.0  0  3\n",
       " 48.0  1  3\n",
       " 18.0  0  2\n",
       " 27.0  0  3\n",
       " 27.0  0  2\n",
       " 49.0  1  2\n",
       " 24.0  0  3\n",
       "  ⋮        \n",
       " 60.0  1  1\n",
       " 28.0  0  3\n",
       " 58.0  1  1\n",
       " 19.0  0  3\n",
       " 56.0  0  1\n",
       " 44.0  0  1\n",
       " 36.0  0  1\n",
       " 39.0  0  3\n",
       " 30.0  0  2\n",
       " 24.0  1  3\n",
       " 20.0  0  3\n",
       " 55.0  1  1"
      ]
     },
     "execution_count": 4,
     "metadata": {},
     "output_type": "execute_result"
    }
   ],
   "source": [
    "index = shuffle!(collect(1:size(y,1)))\n",
    "i_train = index[1:round(Int,length(index)*0.6)]\n",
    "i_test = index[round(Int,length(index)*0.6)+1:end]\n",
    "y_train = y[i_train]\n",
    "y_test = y[i_test]\n",
    "x_train = x[i_train,:]\n",
    "x_test = x[i_test,:]"
   ]
  },
  {
   "cell_type": "code",
   "execution_count": null,
   "metadata": {
    "collapsed": true
   },
   "outputs": [],
   "source": []
  }
 ],
 "metadata": {
  "kernelspec": {
   "display_name": "Julia 0.4.6",
   "language": "julia",
   "name": "julia-0.4"
  },
  "language_info": {
   "file_extension": ".jl",
   "mimetype": "application/julia",
   "name": "julia",
   "version": "0.4.6"
  }
 },
 "nbformat": 4,
 "nbformat_minor": 1
}
