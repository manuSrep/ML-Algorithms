{
 "cells": [
  {
   "cell_type": "markdown",
   "metadata": {},
   "source": [
    "# k-neares-neighbour (KNN)\n",
    "The  KNN classifier is one of the most simples classifier to imagine. It is a nonparmametric method. The idea is that new instances get the same label as their neighbour from which the label is known. If compared to k neigbours, a majority vote can improve the prediction. "
   ]
  },
  {
   "cell_type": "code",
   "execution_count": 1,
   "metadata": {
    "collapsed": true
   },
   "outputs": [],
   "source": [
    "using DataFrames"
   ]
  },
  {
   "cell_type": "code",
   "execution_count": 6,
   "metadata": {
    "collapsed": false
   },
   "outputs": [
    {
     "data": {
      "text/plain": [
       "228x30 Array{Float64,2}:\n",
       " 11.71   17.19   74.68   420.3  0.09774  …  0.1521   0.1099   0.2572  0.07097\n",
       " 10.29   27.61   65.67   321.4  0.0903      0.2      0.09127  0.2226  0.08283\n",
       " 10.57   20.22   70.15   338.3  0.09073     0.603    0.1465   0.2597  0.12   \n",
       " 14.04   15.98   89.78   611.2  0.08458     0.1117   0.07453  0.2725  0.07234\n",
       " 13.7    17.64   87.76   571.1  0.0995      0.1742   0.09077  0.2518  0.0696 \n",
       " 27.42   26.27  186.9   2501.0  0.1084   …  0.6833   0.2625   0.2641  0.07427\n",
       " 13.77   13.27   88.06   582.7  0.09198     0.03732  0.05802  0.2823  0.06794\n",
       " 15.08   25.74   98.0    716.6  0.1024      0.4029   0.1526   0.2654  0.09438\n",
       " 16.24   18.77  108.8    805.1  0.1066      0.5026   0.1732   0.277   0.1063 \n",
       " 13.0    20.78   83.51   519.4  0.1135      0.08112  0.06296  0.3196  0.06435\n",
       " 17.02   23.98  112.8    899.3  0.1197   …  0.5588   0.1847   0.353   0.08482\n",
       " 20.13   28.25  131.2   1261.0  0.0978      0.3215   0.1628   0.2572  0.06637\n",
       " 12.07   13.44   77.83   445.2  0.11        0.1622   0.07393  0.2781  0.08052\n",
       "  ⋮                                      ⋱                                   \n",
       " 10.94   18.59   70.39   370.0  0.1004      0.1412   0.07887  0.2251  0.07732\n",
       " 15.85   23.95  103.7    782.7  0.08401     0.2322   0.1119   0.2809  0.06287\n",
       " 12.89   13.12   81.89   515.9  0.06955     0.1186   0.05366  0.2309  0.06915\n",
       "  8.571  13.1    54.53   221.3  0.1036      0.1754   0.08512  0.2983  0.1049 \n",
       " 15.5    21.08  102.9    803.1  0.112    …  0.4211   0.2134   0.3003  0.1048 \n",
       "  9.668  18.1    61.06   286.3  0.08311     0.06409  0.025    0.3057  0.07875\n",
       " 15.53   33.56  103.7    744.9  0.1063      0.5703   0.2014   0.3512  0.1204 \n",
       " 12.4    17.68   81.47   467.8  0.1054      0.2403   0.0737   0.2556  0.09359\n",
       " 11.04   16.83   70.92   373.2  0.1077      0.1067   0.07431  0.2998  0.07881\n",
       " 16.13   17.88  107.0    807.2  0.104    …  0.5274   0.1864   0.427   0.1233 \n",
       " 16.03   15.51  105.8    793.2  0.09491     0.4956   0.1981   0.3019  0.09124\n",
       " 13.17   18.22   84.28   537.3  0.07466     0.1876   0.1045   0.2235  0.06925"
      ]
     },
     "execution_count": 6,
     "metadata": {},
     "output_type": "execute_result"
    }
   ],
   "source": [
    "df = readtable(\"../Datasets/wdbc.data.txt\", header=false)\n",
    "df[:,end+1] = zeros(Int,size(df,1))\n",
    "df[df[:,2] .== \"M\",end] = 1\n",
    "delete!(df, 1)\n",
    "delete!(df, 1)\n",
    "data = convert(Array, df)\n",
    "x = data[:,1:end-1]\n",
    "y = data[:,end]\n",
    "index = shuffle!(collect(1:size(y,1)))\n",
    "i_train = index[1:round(Int,length(index)*0.6)]\n",
    "i_test = index[round(Int,length(index)*0.6)+1:end]\n",
    "y_train = y[i_train]\n",
    "y_test = y[i_test]\n",
    "x_train = Matrix{Float64}(x[i_train,:])\n",
    "x_test = Matrix{Float64}(x[i_test,:])"
   ]
  },
  {
   "cell_type": "markdown",
   "metadata": {},
   "source": [
    "##  Distance calculation\n",
    "To find ot what are the k closesed neighbours, we must compute the distance between the unknown and the known  instances.  Here we will just use the euklidean distance for simplicity but in principle every distance can be used.\n"
   ]
  },
  {
   "cell_type": "code",
   "execution_count": 7,
   "metadata": {
    "collapsed": false
   },
   "outputs": [
    {
     "data": {
      "text/plain": [
       "dist (generic function with 1 method)"
      ]
     },
     "execution_count": 7,
     "metadata": {},
     "output_type": "execute_result"
    }
   ],
   "source": [
    "function dist(X1::Matrix{Float64},X2::Matrix{Float64})\n",
    "    X1_norm = diag(X1*X1.')\n",
    "    X2_norm = diag(X2*X2.')\n",
    "    X1_norm = repeat(X1_norm,outer =[1,size(X2)[1]])\n",
    "    X2_norm = repeat(X2_norm,outer =[1,size(X1)[1]])\n",
    "    return sqrt(X1_norm .+ X2_norm.' .- 2.* X1 * X2.')\n",
    "end"
   ]
  },
  {
   "cell_type": "code",
   "execution_count": 8,
   "metadata": {
    "collapsed": false
   },
   "outputs": [
    {
     "name": "stdout",
     "output_type": "stream",
     "text": [
      "  3.585894 seconds (3.38 M allocations: 131.319 MB, 2.34% gc time)\n",
      "  0.397413 seconds (2.09 M allocations: 68.369 MB, 6.77% gc time)\n"
     ]
    },
    {
     "data": {
      "text/plain": [
       "341x341 Array{Float64,2}:\n",
       "    0.0    1631.23   2108.8     2114.77    …   296.634  2265.7      579.016\n",
       " 1631.23      0.0     479.717    489.795      1420.0     638.155   1088.85 \n",
       " 2108.8     479.717     0.0       59.2346     1893.53    159.295   1563.45 \n",
       " 2114.77    489.795    59.2346     0.0        1893.98    159.401   1564.52 \n",
       " 2080.21    453.193    49.54      41.1644     1861.36    188.95    1531.53 \n",
       "  419.575  1737.95   2202.85    2198.11    …   358.507  2355.02     665.566\n",
       " 1495.61    200.071   634.195    630.297      1265.76    787.131    936.185\n",
       " 1968.76    343.924   147.281    146.758      1749.63    299.608   1419.97 \n",
       " 1765.88    198.706   373.563    362.242      1536.86    520.097   1208.76 \n",
       " 2288.02    659.767   180.199    183.924      2071.72     29.2635  1742.12 \n",
       "  716.153  2180.16   2644.2     2638.72    …   783.522  2795.8     1103.94 \n",
       " 1837.29    210.58    273.914    280.532      1620.27    431.142   1289.73 \n",
       "  547.133  1285.96   1746.21    1740.3         252.351  1897.47     273.171\n",
       "    ⋮                                      ⋱                          ⋮    \n",
       " 2075.08    448.96     52.4781    45.3244     1856.42    192.816   1526.96 \n",
       " 1953.16    323.565   156.301    172.622   …  1738.98    314.926   1408.57 \n",
       " 1978.39    352.357   137.11     137.81       1759.51    290.481   1429.55 \n",
       " 1308.92    353.639   816.351    815.19       1079.92    971.033    749.751\n",
       " 1240.11    490.847   928.865    920.425       991.283  1078.33     669.785\n",
       " 1987.76    357.999   123.379    149.481      1775.05    282.205   1444.57 \n",
       " 1714.35    125.926   405.838    403.527   …  1490.96    559.35    1161.11 \n",
       " 1864.6     267.249   275.89     261.453      1637.4     419.599   1308.89 \n",
       " 1953.95    324.546   156.946    170.68       1739.04    314.236   1408.63 \n",
       "  296.634  1420.0    1893.53    1893.98          0.0    2048.68     335.31 \n",
       " 2265.7     638.155   159.295    159.401      2048.68      0.0     1719.37 \n",
       "  579.016  1088.85   1563.45    1564.52    …   335.31   1719.37       0.0  "
      ]
     },
     "execution_count": 8,
     "metadata": {},
     "output_type": "execute_result"
    }
   ],
   "source": [
    "@time dist(x_train,x_train)\n",
    "@time dist(x_train,x_train)"
   ]
  },
  {
   "cell_type": "code",
   "execution_count": 9,
   "metadata": {
    "collapsed": false
   },
   "outputs": [
    {
     "data": {
      "text/plain": [
       "dist1 (generic function with 1 method)"
      ]
     },
     "execution_count": 9,
     "metadata": {},
     "output_type": "execute_result"
    }
   ],
   "source": [
    "function dist1(X1::Matrix{Float64},X2::Matrix{Float64})\n",
    "    dist = Matrix{Float64}(size(X1)[1],size(X2)[1])\n",
    "    for j = 1:size(X2)[1]\n",
    "        for i = 1:size(X1)[1]\n",
    "            tmp = vec(X1[i,:] .- X2[j,:])\n",
    "            dist[i,j] = dot(tmp,tmp)\n",
    "        end\n",
    "    end\n",
    "    return sqrt(dist)\n",
    "end"
   ]
  },
  {
   "cell_type": "code",
   "execution_count": 10,
   "metadata": {
    "collapsed": false
   },
   "outputs": [
    {
     "name": "stdout",
     "output_type": "stream",
     "text": [
      "  0.579663 seconds (1.69 M allocations: 169.731 MB, 8.45% gc time)\n",
      "  0.406715 seconds (1.63 M allocations: 166.785 MB, 12.32% gc time)\n"
     ]
    },
    {
     "data": {
      "text/plain": [
       "341x341 Array{Float64,2}:\n",
       "    0.0    1631.23   2108.8     2114.77    …   296.634  2265.7      579.016\n",
       " 1631.23      0.0     479.717    489.795      1420.0     638.155   1088.85 \n",
       " 2108.8     479.717     0.0       59.2346     1893.53    159.295   1563.45 \n",
       " 2114.77    489.795    59.2346     0.0        1893.98    159.401   1564.52 \n",
       " 2080.21    453.193    49.54      41.1644     1861.36    188.95    1531.53 \n",
       "  419.575  1737.95   2202.85    2198.11    …   358.507  2355.02     665.566\n",
       " 1495.61    200.071   634.195    630.297      1265.76    787.131    936.185\n",
       " 1968.76    343.924   147.281    146.758      1749.63    299.608   1419.97 \n",
       " 1765.88    198.706   373.563    362.242      1536.86    520.097   1208.76 \n",
       " 2288.02    659.767   180.199    183.924      2071.72     29.2635  1742.12 \n",
       "  716.153  2180.16   2644.2     2638.72    …   783.522  2795.8     1103.94 \n",
       " 1837.29    210.58    273.914    280.532      1620.27    431.142   1289.73 \n",
       "  547.133  1285.96   1746.21    1740.3         252.351  1897.47     273.171\n",
       "    ⋮                                      ⋱                          ⋮    \n",
       " 2075.08    448.96     52.4781    45.3244     1856.42    192.816   1526.96 \n",
       " 1953.16    323.565   156.301    172.622   …  1738.98    314.926   1408.57 \n",
       " 1978.39    352.357   137.11     137.81       1759.51    290.481   1429.55 \n",
       " 1308.92    353.639   816.351    815.19       1079.92    971.033    749.751\n",
       " 1240.11    490.847   928.865    920.425       991.283  1078.33     669.785\n",
       " 1987.76    357.999   123.379    149.481      1775.05    282.205   1444.57 \n",
       " 1714.35    125.926   405.838    403.527   …  1490.96    559.35    1161.11 \n",
       " 1864.6     267.249   275.89     261.453      1637.4     419.599   1308.89 \n",
       " 1953.95    324.546   156.946    170.68       1739.04    314.236   1408.63 \n",
       "  296.634  1420.0    1893.53    1893.98          0.0    2048.68     335.31 \n",
       " 2265.7     638.155   159.295    159.401      2048.68      0.0     1719.37 \n",
       "  579.016  1088.85   1563.45    1564.52    …   335.31   1719.37       0.0  "
      ]
     },
     "execution_count": 10,
     "metadata": {},
     "output_type": "execute_result"
    }
   ],
   "source": [
    "@time dist1(x_train,x_train)\n",
    "@time dist1(x_train,x_train)"
   ]
  },
  {
   "cell_type": "code",
   "execution_count": 52,
   "metadata": {
    "collapsed": false
   },
   "outputs": [
    {
     "data": {
      "text/plain": [
       "dist2 (generic function with 1 method)"
      ]
     },
     "execution_count": 52,
     "metadata": {},
     "output_type": "execute_result"
    }
   ],
   "source": [
    "function dist2(X1::Matrix{Float64},X2::Matrix{Float64})\n",
    "    nrows = size(X1,1)\n",
    "    ncols = size(X2,1)\n",
    "    nfeat = size(X2,2)\n",
    "    dist = Matrix{Float64}(nrows,ncols)\n",
    "    for j = 1:ncols\n",
    "        for i = 1:nrows\n",
    "            dist[i,j] = 0\n",
    "            for k = 1:nfeat\n",
    "                dist[i,j] += (X1[i,k] - X2[j,k])^2\n",
    "            end\n",
    "            dist[i,j] = sqrt(dist[i,j])\n",
    "        end\n",
    "    end\n",
    "    return dist\n",
    "end"
   ]
  },
  {
   "cell_type": "code",
   "execution_count": 53,
   "metadata": {
    "collapsed": false
   },
   "outputs": [
    {
     "name": "stdout",
     "output_type": "stream",
     "text": [
      "  0.083811 seconds (7.92 k allocations: 1.254 MB)\n",
      "  0.019542 seconds (6 allocations: 908.672 KB)\n"
     ]
    },
    {
     "data": {
      "text/plain": [
       "341x341 Array{Float64,2}:\n",
       "    0.0    1631.23   2108.8     2114.77    …   296.634  2265.7      579.016\n",
       " 1631.23      0.0     479.717    489.795      1420.0     638.155   1088.85 \n",
       " 2108.8     479.717     0.0       59.2346     1893.53    159.295   1563.45 \n",
       " 2114.77    489.795    59.2346     0.0        1893.98    159.401   1564.52 \n",
       " 2080.21    453.193    49.54      41.1644     1861.36    188.95    1531.53 \n",
       "  419.575  1737.95   2202.85    2198.11    …   358.507  2355.02     665.566\n",
       " 1495.61    200.071   634.195    630.297      1265.76    787.131    936.185\n",
       " 1968.76    343.924   147.281    146.758      1749.63    299.608   1419.97 \n",
       " 1765.88    198.706   373.563    362.242      1536.86    520.097   1208.76 \n",
       " 2288.02    659.767   180.199    183.924      2071.72     29.2635  1742.12 \n",
       "  716.153  2180.16   2644.2     2638.72    …   783.522  2795.8     1103.94 \n",
       " 1837.29    210.58    273.914    280.532      1620.27    431.142   1289.73 \n",
       "  547.133  1285.96   1746.21    1740.3         252.351  1897.47     273.171\n",
       "    ⋮                                      ⋱                          ⋮    \n",
       " 2075.08    448.96     52.4781    45.3244     1856.42    192.816   1526.96 \n",
       " 1953.16    323.565   156.301    172.622   …  1738.98    314.926   1408.57 \n",
       " 1978.39    352.357   137.11     137.81       1759.51    290.481   1429.55 \n",
       " 1308.92    353.639   816.351    815.19       1079.92    971.033    749.751\n",
       " 1240.11    490.847   928.865    920.425       991.283  1078.33     669.785\n",
       " 1987.76    357.999   123.379    149.481      1775.05    282.205   1444.57 \n",
       " 1714.35    125.926   405.838    403.527   …  1490.96    559.35    1161.11 \n",
       " 1864.6     267.249   275.89     261.453      1637.4     419.599   1308.89 \n",
       " 1953.95    324.546   156.946    170.68       1739.04    314.236   1408.63 \n",
       "  296.634  1420.0    1893.53    1893.98          0.0    2048.68     335.31 \n",
       " 2265.7     638.155   159.295    159.401      2048.68      0.0     1719.37 \n",
       "  579.016  1088.85   1563.45    1564.52    …   335.31   1719.37       0.0  "
      ]
     },
     "execution_count": 53,
     "metadata": {},
     "output_type": "execute_result"
    }
   ],
   "source": [
    "@time dist2(x_train,x_train)\n",
    "@time dist2(x_train,x_train)"
   ]
  },
  {
   "cell_type": "code",
   "execution_count": 49,
   "metadata": {
    "collapsed": false
   },
   "outputs": [
    {
     "ename": "LoadError",
     "evalue": "LoadError: UndefVarError: view not defined\nwhile loading In[49], in expression starting on line 1",
     "output_type": "error",
     "traceback": [
      "LoadError: UndefVarError: view not defined\nwhile loading In[49], in expression starting on line 1",
      ""
     ]
    }
   ],
   "source": []
  },
  {
   "cell_type": "code",
   "execution_count": 42,
   "metadata": {
    "collapsed": false
   },
   "outputs": [
    {
     "name": "stdout",
     "output_type": "stream",
     "text": [
      "  0.006374 seconds (2.06 k allocations: 1.122 MB)\n",
      "  0.002511 seconds (2.06 k allocations: 1.122 MB)\n"
     ]
    },
    {
     "data": {
      "text/plain": [
       "341x341 Array{Float64,2}:\n",
       "    4.31584e-5  1631.23   2108.8     …   296.634  2265.7      579.016\n",
       " 1631.23           0.0     479.717      1420.0     638.155   1088.85 \n",
       " 2108.8          479.717     0.0        1893.53    159.295   1563.45 \n",
       " 2114.77         489.795    59.2346     1893.98    159.401   1564.52 \n",
       " 2080.21         453.193    49.54       1861.36    188.95    1531.53 \n",
       "  419.575       1737.95   2202.85    …   358.507  2355.02     665.566\n",
       " 1495.61         200.071   634.195      1265.76    787.131    936.185\n",
       " 1968.76         343.924   147.281      1749.63    299.608   1419.97 \n",
       " 1765.88         198.706   373.563      1536.86    520.097   1208.76 \n",
       " 2288.02         659.767   180.199      2071.72     29.2635  1742.12 \n",
       "  716.153       2180.16   2644.2     …   783.522  2795.8     1103.94 \n",
       " 1837.29         210.58    273.914      1620.27    431.142   1289.73 \n",
       "  547.133       1285.96   1746.21        252.351  1897.47     273.171\n",
       "    ⋮                                ⋱                          ⋮    \n",
       " 2075.08         448.96     52.4781     1856.42    192.816   1526.96 \n",
       " 1953.16         323.565   156.301   …  1738.98    314.926   1408.57 \n",
       " 1978.39         352.357   137.11       1759.51    290.481   1429.55 \n",
       " 1308.92         353.639   816.351      1079.92    971.033    749.751\n",
       " 1240.11         490.847   928.865       991.283  1078.33     669.785\n",
       " 1987.76         357.999   123.379      1775.05    282.205   1444.57 \n",
       " 1714.35         125.926   405.838   …  1490.96    559.35    1161.11 \n",
       " 1864.6          267.249   275.89       1637.4     419.599   1308.89 \n",
       " 1953.95         324.546   156.946      1739.04    314.236   1408.63 \n",
       "  296.634       1420.0    1893.53          0.0    2048.68     335.31 \n",
       " 2265.7          638.155   159.295      2048.68      0.0     1719.37 \n",
       "  579.016       1088.85   1563.45    …   335.31   1719.37       0.0  "
      ]
     },
     "execution_count": 42,
     "metadata": {},
     "output_type": "execute_result"
    }
   ],
   "source": [
    "using Distances\n",
    "\n",
    "@time pairwise(Euclidean(), x_train.',x_train.')\n",
    "@time pairwise(Euclidean(), x_train.',x_train.')"
   ]
  },
  {
   "cell_type": "code",
   "execution_count": 54,
   "metadata": {
    "collapsed": false
   },
   "outputs": [
    {
     "data": {
      "text/plain": [
       "KNN (generic function with 2 methods)"
      ]
     },
     "execution_count": 54,
     "metadata": {},
     "output_type": "execute_result"
    }
   ],
   "source": [
    "function KNN(x_train, y_train, x_test, k=3)\n",
    "    # first calculate distance bewteen train and test data\n",
    "    d = dist(x_train, x_test)\n",
    "    # find labels of closest neighbours\n",
    "    labels = Matrix(size(x_test,1),k)\n",
    "    for i = 1:k\n",
    "        mxval, mxindx = findmin(d, 1)\n",
    "        indx = ind2sub(size(d), vec(mxindx))[1]\n",
    "        labels[:,i] = (y_train[indx])\n",
    "        # remove closest values from distance matrix\n",
    "        d[mxindx] = Inf\n",
    "    end\n",
    "    return median(labels,2)\n",
    "end"
   ]
  },
  {
   "cell_type": "code",
   "execution_count": 55,
   "metadata": {
    "collapsed": false
   },
   "outputs": [
    {
     "data": {
      "text/plain": [
       "0.9254385964912281"
      ]
     },
     "execution_count": 55,
     "metadata": {},
     "output_type": "execute_result"
    }
   ],
   "source": [
    "y_pred = KNN(x_train, y_train, x_test,5)\n",
    "mean(y_pred .== y_test)\n"
   ]
  },
  {
   "cell_type": "code",
   "execution_count": 57,
   "metadata": {
    "collapsed": false
   },
   "outputs": [
    {
     "data": {
      "text/plain": [
       "0.9384164222873901"
      ]
     },
     "execution_count": 57,
     "metadata": {},
     "output_type": "execute_result"
    }
   ],
   "source": [
    "y_pred = KNN(x_train, y_train, x_train,5)\n",
    "mean(y_train .== y_pred)"
   ]
  },
  {
   "cell_type": "code",
   "execution_count": null,
   "metadata": {
    "collapsed": true
   },
   "outputs": [],
   "source": []
  }
 ],
 "metadata": {
  "kernelspec": {
   "display_name": "Julia 0.4.6",
   "language": "julia",
   "name": "julia-0.4"
  },
  "language_info": {
   "file_extension": ".jl",
   "mimetype": "application/julia",
   "name": "julia",
   "version": "0.4.6"
  }
 },
 "nbformat": 4,
 "nbformat_minor": 1
}
