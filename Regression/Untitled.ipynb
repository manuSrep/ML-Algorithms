{
 "cells": [
  {
   "cell_type": "code",
   "execution_count": 1,
   "metadata": {
    "collapsed": true
   },
   "outputs": [],
   "source": [
    "using DataFrames"
   ]
  },
  {
   "cell_type": "code",
   "execution_count": 224,
   "metadata": {
    "collapsed": false
   },
   "outputs": [
    {
     "data": {
      "text/plain": [
       "202x13 Array{Float64,2}:\n",
       "  9.39063   0.0  18.1   0.0  0.74   …  24.0  666.0  20.2  396.9   22.88\n",
       "  0.62356   0.0   6.2   1.0  0.507      8.0  307.0  17.4  390.39   9.93\n",
       "  0.0456    0.0  13.89  1.0  0.55       5.0  276.0  16.4  392.8   13.51\n",
       "  0.17134   0.0  10.01  0.0  0.547      6.0  432.0  17.8  344.91  15.76\n",
       " 22.5971    0.0  18.1   0.0  0.7       24.0  666.0  20.2  396.9   31.99\n",
       "  1.38799   0.0   8.14  0.0  0.538  …   4.0  307.0  21.0  232.6   27.71\n",
       "  0.0315   95.0   1.47  0.0  0.403      3.0  402.0  17.0  396.9    4.56\n",
       "  0.19802   0.0  10.59  0.0  0.489      4.0  277.0  18.6  393.63   9.47\n",
       "  0.13554  12.5   6.07  0.0  0.409      4.0  345.0  18.9  396.9   13.09\n",
       "  0.17899   0.0   9.69  0.0  0.585      6.0  391.0  19.2  393.29  17.6 \n",
       "  0.1146   20.0   6.96  0.0  0.464  …   3.0  223.0  18.6  394.96   7.73\n",
       " 10.6718    0.0  18.1   0.0  0.74      24.0  666.0  20.2   43.06  23.98\n",
       "  3.69695   0.0  18.1   0.0  0.718     24.0  666.0  20.2  316.03  14.0 \n",
       "  ⋮                                 ⋱                ⋮                 \n",
       " 11.8123    0.0  18.1   0.0  0.718  …  24.0  666.0  20.2   48.45  22.74\n",
       "  0.03768  80.0   1.52  0.0  0.404      2.0  329.0  12.6  392.2    6.62\n",
       "  0.33147   0.0   6.2   0.0  0.507      8.0  307.0  17.4  378.95   3.95\n",
       "  0.09252  30.0   4.93  0.0  0.428      6.0  300.0  16.6  383.78   7.37\n",
       "  0.25199   0.0  10.59  0.0  0.489      4.0  277.0  18.6  389.43  18.06\n",
       "  0.54011  20.0   3.97  0.0  0.647  …   5.0  264.0  13.0  392.8    9.59\n",
       "  3.77498   0.0  18.1   0.0  0.655     24.0  666.0  20.2   22.01  17.15\n",
       "  0.01538  90.0   3.75  0.0  0.394      3.0  244.0  15.9  386.34   3.11\n",
       "  3.67367   0.0  18.1   0.0  0.583     24.0  666.0  20.2  388.62  10.58\n",
       "  4.89822   0.0  18.1   0.0  0.631     24.0  666.0  20.2  375.52   3.26\n",
       "  0.03961   0.0   5.19  0.0  0.515  …   5.0  224.0  20.2  396.9    8.01\n",
       " 88.9762    0.0  18.1   0.0  0.671     24.0  666.0  20.2  396.9   17.21"
      ]
     },
     "execution_count": 224,
     "metadata": {},
     "output_type": "execute_result"
    }
   ],
   "source": [
    "df = readtable(\"../Datasets/housing.data.txt\", separator = ' ', header = false)\n",
    "data = convert(Array, df)\n",
    "x = data[:,1:end-1]\n",
    "y = data[:,end]\n",
    "index = shuffle!(collect(1:size(y,1)))\n",
    "i_train = index[1:round(Int,length(index)*0.6)]\n",
    "i_test = index[round(Int,length(index)*0.6)+1:end]\n",
    "y_train = Vector{Float64}(y[i_train])\n",
    "y_test = Vector{Float64}(y[i_test])\n",
    "x_train = Matrix{Float64}(x[i_train,:])\n",
    "x_test = Matrix{Float64}(x[i_test,:])"
   ]
  },
  {
   "cell_type": "code",
   "execution_count": 225,
   "metadata": {
    "collapsed": false
   },
   "outputs": [
    {
     "data": {
      "text/plain": [
       "LineraRegression (generic function with 2 methods)"
      ]
     },
     "execution_count": 225,
     "metadata": {},
     "output_type": "execute_result"
    }
   ],
   "source": [
    "function LineraRegression(X,y,x, order=1)\n",
    "    X_ = Matrix{Float64}(size(X,1),size(X,2)*order+1)\n",
    "    x_ = Matrix{Float64}(size(x,1),size(x,2)*order+1)\n",
    "    X_[:,1] = 1\n",
    "    x_[:,1] = 1\n",
    "    counter = 2\n",
    "    for i in 1:size(X,2)\n",
    "        for j in 1:order\n",
    "            X_[:,counter] = X[:,i].^j\n",
    "            x_[:,counter] = x[:,i].^j\n",
    "            counter += 1\n",
    "        end\n",
    "    end\n",
    "    \n",
    "    #w = inv(X.'* X) * X.' * y\n",
    "    w_ = inv(X_.'* X_) * X_.' * y\n",
    "    return x_ * w_\n",
    "end"
   ]
  },
  {
   "cell_type": "code",
   "execution_count": 236,
   "metadata": {
    "collapsed": false
   },
   "outputs": [
    {
     "data": {
      "text/plain": [
       "20.153047364030225"
      ]
     },
     "execution_count": 236,
     "metadata": {},
     "output_type": "execute_result"
    }
   ],
   "source": [
    "a = LineraRegression(x_train,y_train,x_train,1)\n",
    "sum((a-y_train).^2)/length(a)"
   ]
  },
  {
   "cell_type": "code",
   "execution_count": 237,
   "metadata": {
    "collapsed": false
   },
   "outputs": [
    {
     "data": {
      "text/plain": [
       "202-element Array{Float64,1}:\n",
       " 12.8\n",
       " 27.5\n",
       " 23.3\n",
       " 18.3\n",
       "  7.4\n",
       " 13.2\n",
       " 34.9\n",
       " 25.0\n",
       " 17.4\n",
       " 23.1\n",
       " 24.4\n",
       " 11.8\n",
       " 21.9\n",
       "  ⋮  \n",
       "  8.4\n",
       " 34.6\n",
       " 48.3\n",
       " 23.3\n",
       " 22.5\n",
       " 33.8\n",
       " 19.0\n",
       " 44.0\n",
       " 21.2\n",
       " 50.0\n",
       " 21.1\n",
       " 10.4"
      ]
     },
     "execution_count": 237,
     "metadata": {},
     "output_type": "execute_result"
    }
   ],
   "source": [
    "y_test"
   ]
  },
  {
   "cell_type": "code",
   "execution_count": 235,
   "metadata": {
    "collapsed": false
   },
   "outputs": [
    {
     "data": {
      "text/plain": [
       "202-element Array{Float64,1}:\n",
       " 12.7713 \n",
       " 32.3586 \n",
       " 26.2518 \n",
       " 19.6356 \n",
       "  4.21486\n",
       "  8.01038\n",
       " 30.5407 \n",
       " 24.7656 \n",
       " 16.8515 \n",
       " 17.3562 \n",
       " 28.4656 \n",
       " 11.5269 \n",
       " 14.2861 \n",
       "  ⋮      \n",
       " 14.7742 \n",
       " 34.7327 \n",
       " 39.134  \n",
       " 28.4346 \n",
       " 17.0622 \n",
       " 35.4729 \n",
       " 13.1796 \n",
       " 37.6875 \n",
       " 22.8799 \n",
       " 22.0828 \n",
       " 21.2949 \n",
       " 14.3462 "
      ]
     },
     "execution_count": 235,
     "metadata": {},
     "output_type": "execute_result"
    }
   ],
   "source": [
    "a"
   ]
  },
  {
   "cell_type": "code",
   "execution_count": null,
   "metadata": {
    "collapsed": true
   },
   "outputs": [],
   "source": []
  }
 ],
 "metadata": {
  "kernelspec": {
   "display_name": "Julia 0.4.6",
   "language": "julia",
   "name": "julia-0.4"
  },
  "language_info": {
   "file_extension": ".jl",
   "mimetype": "application/julia",
   "name": "julia",
   "version": "0.4.6"
  }
 },
 "nbformat": 4,
 "nbformat_minor": 1
}
